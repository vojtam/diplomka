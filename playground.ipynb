{
 "cells": [
  {
   "cell_type": "markdown",
   "id": "6ec9b29e-c1bf-464b-b971-0878d68f911f",
   "metadata": {},
   "source": [
    "## Imports"
   ]
  },
  {
   "cell_type": "code",
   "execution_count": 2,
   "id": "e40f06f5-f8cf-4e52-9b99-68f4733cfc4e",
   "metadata": {},
   "outputs": [],
   "source": [
    "from transformers import AutoTokenizer, AutoModel\n",
    "import torch"
   ]
  },
  {
   "cell_type": "markdown",
   "id": "778d196b-3e4f-4a85-9abc-5c96bcbde0c0",
   "metadata": {},
   "source": [
    "### Tokenizer"
   ]
  },
  {
   "cell_type": "code",
   "execution_count": 3,
   "id": "c6920292-75b5-41ea-ad83-0c4b39d0951b",
   "metadata": {},
   "outputs": [],
   "source": [
    "tokenizer = AutoTokenizer.from_pretrained(\"zhihan1996/DNABERT-2-117M\", trust_remote_code=True)"
   ]
  },
  {
   "cell_type": "code",
   "execution_count": 4,
   "id": "fbeda7ed-34b1-4b13-bbdb-63d081e887fb",
   "metadata": {},
   "outputs": [],
   "source": [
    "dna = \"ACGTAGCATCGGATCTATCTATCGACACTTGGTTATCGATCTACGAGCATCTCGTTAGC\"\n",
    "inputs = tokenizer(dna, return_tensors = 'pt')[\"input_ids\"]"
   ]
  },
  {
   "cell_type": "code",
   "execution_count": 5,
   "id": "d9abd2bf-2cf5-4364-9416-062ce6e46b4b",
   "metadata": {},
   "outputs": [
    {
     "data": {
      "text/plain": [
       "tensor([[   1,    5,  194,   32,  757, 1239, 2092,  294,   24,  359,   88,   93,\n",
       "           32,   75,   77,   19,    2]])"
      ]
     },
     "execution_count": 5,
     "metadata": {},
     "output_type": "execute_result"
    }
   ],
   "source": [
    "inputs"
   ]
  },
  {
   "cell_type": "code",
   "execution_count": 6,
   "id": "9aa1b450-1d0c-4c50-a3c6-b81516ad5b57",
   "metadata": {},
   "outputs": [
    {
     "data": {
      "text/plain": [
       "'[CLS] A CGTA GCA TCGGA TCTATCTA TCGACA CTTGG TTA TCGA TCTA CGA GCA TCTC GTTA GC [SEP]'"
      ]
     },
     "execution_count": 6,
     "metadata": {},
     "output_type": "execute_result"
    }
   ],
   "source": [
    "tokenizer.decode(inputs[0])"
   ]
  },
  {
   "cell_type": "markdown",
   "id": "c7941fde-ece2-434f-9f2a-843f0d1e623f",
   "metadata": {},
   "source": [
    "### DNABERT-2-117M"
   ]
  },
  {
   "cell_type": "markdown",
   "id": "b314ba00-cc95-4aaf-a4f2-cdffcff9e02a",
   "metadata": {},
   "source": [
    "> need to load the model from specific commit which solves the issue https://huggingface.co/zhihan1996/DNABERT-2-117M/commit/6617c7e3829423fddd80ba03c7c7dc4f8aab4d19 I've been having otherwise -> revision can be ommited if the PR is accepted"
   ]
  },
  {
   "cell_type": "code",
   "execution_count": 7,
   "id": "09d48dc5-379c-48dc-9bee-c20eb9e94fc3",
   "metadata": {},
   "outputs": [
    {
     "name": "stderr",
     "output_type": "stream",
     "text": [
      "/home/jovyan/.cache/huggingface/modules/transformers_modules/zhihan1996/DNABERT-2-117M/6617c7e3829423fddd80ba03c7c7dc4f8aab4d19/bert_layers.py:127: UserWarning: Unable to import Triton; defaulting MosaicBERT attention implementation to pytorch (this will reduce throughput when using this model).\n",
      "  warnings.warn(\n",
      "Some weights of BertModel were not initialized from the model checkpoint at zhihan1996/DNABERT-2-117M and are newly initialized: ['bert.pooler.dense.bias', 'bert.pooler.dense.weight']\n",
      "You should probably TRAIN this model on a down-stream task to be able to use it for predictions and inference.\n"
     ]
    }
   ],
   "source": [
    "model = AutoModel.from_pretrained(\"zhihan1996/DNABERT-2-117M\", trust_remote_code=True, revision='6617c7e')"
   ]
  },
  {
   "cell_type": "code",
   "execution_count": 8,
   "id": "6bd0b6d6-52e5-4a8a-89c2-df50f389ccbb",
   "metadata": {},
   "outputs": [
    {
     "data": {
      "text/plain": [
       "tensor([[[-0.0458,  0.0782,  0.1223,  ...,  0.2533,  0.1660,  0.0863],\n",
       "         [-0.0590, -0.0850,  0.1442,  ...,  0.2694,  0.0734, -0.0645],\n",
       "         [-0.2030,  0.2774,  0.0958,  ..., -0.1426,  0.1620,  0.1039],\n",
       "         ...,\n",
       "         [-0.0018, -0.0709,  0.1182,  ...,  0.1514, -0.2617,  0.1708],\n",
       "         [-0.0510,  0.0114,  0.1349,  ..., -0.1366, -0.0012,  0.2496],\n",
       "         [ 0.0246,  0.2306,  0.1297,  ...,  0.1221,  0.1937, -0.0584]]],\n",
       "       grad_fn=<ViewBackward0>)"
      ]
     },
     "execution_count": 8,
     "metadata": {},
     "output_type": "execute_result"
    }
   ],
   "source": [
    "hidden_states = model(inputs)[0]\n",
    "hidden_states"
   ]
  },
  {
   "cell_type": "code",
   "execution_count": 9,
   "id": "1e861d25-f325-4904-9095-1840e1163666",
   "metadata": {},
   "outputs": [
    {
     "data": {
      "text/plain": [
       "torch.Size([1, 17, 768])"
      ]
     },
     "execution_count": 9,
     "metadata": {},
     "output_type": "execute_result"
    }
   ],
   "source": [
    "hidden_states.shape"
   ]
  },
  {
   "cell_type": "markdown",
   "id": "d58ae1de-7b96-4b11-a244-ae3c22a3193a",
   "metadata": {},
   "source": [
    "### Load dataset"
   ]
  },
  {
   "cell_type": "code",
   "execution_count": 37,
   "id": "1b627ce0-c86a-42cc-a182-4dd3bb150643",
   "metadata": {},
   "outputs": [],
   "source": [
    "from datasets import load_dataset"
   ]
  },
  {
   "cell_type": "code",
   "execution_count": 38,
   "id": "8bf80a8d-8dba-482a-9a7b-c0962951469d",
   "metadata": {},
   "outputs": [],
   "source": [
    "dataset = load_dataset('simecek/Human_DNA_v0')"
   ]
  },
  {
   "cell_type": "code",
   "execution_count": 39,
   "id": "676553bf-d681-487b-b5b2-04566e23ab46",
   "metadata": {},
   "outputs": [
    {
     "data": {
      "text/plain": [
       "DatasetDict({\n",
       "    train: Dataset({\n",
       "        features: ['Seq'],\n",
       "        num_rows: 263659\n",
       "    })\n",
       "    test: Dataset({\n",
       "        features: ['Seq'],\n",
       "        num_rows: 29296\n",
       "    })\n",
       "})"
      ]
     },
     "execution_count": 39,
     "metadata": {},
     "output_type": "execute_result"
    }
   ],
   "source": [
    "dataset"
   ]
  },
  {
   "cell_type": "markdown",
   "id": "cebd2b6c-ce36-4f70-89df-50db6247d521",
   "metadata": {},
   "source": [
    "### Arithmetic compression"
   ]
  },
  {
   "cell_type": "markdown",
   "id": "32dec5b2-52c5-424d-b98a-a4190a60ce5b",
   "metadata": {},
   "source": [
    "#### StaticModel"
   ]
  },
  {
   "cell_type": "markdown",
   "id": "29da43fa-eb78-4495-be49-44864b3e23f4",
   "metadata": {},
   "source": [
    "StaticModel: A class which implements a static model that doesn't adapt to input data or statistics."
   ]
  },
  {
   "cell_type": "code",
   "execution_count": 4,
   "id": "d1255c3f-2c2f-47de-9545-b40dad0f084f",
   "metadata": {},
   "outputs": [
    {
     "name": "stdout",
     "output_type": "stream",
     "text": [
      "[0, 0, 0, 1, 1, 0, 1, 1, 0, 0, 1, 0, 0, 1, 1]\n"
     ]
    }
   ],
   "source": [
    "from arithmetic_compressor import AECompressor\n",
    "from arithmetic_compressor.models import StaticModel\n",
    "\n",
    "# create the model\n",
    "model = StaticModel({'A': 0.25, 'C': 0.25, 'G': 0.25, 'T': 0.25})\n",
    "\n",
    "# create the coder\n",
    "coder = AECompressor(model)\n",
    "\n",
    "# encode a sequence\n",
    "data = \"ACGTAGC\"\n",
    "N = len(data)\n",
    "compressed = coder.compress(data)\n",
    "\n",
    "# print the compressed data\n",
    "print(compressed) "
   ]
  },
  {
   "cell_type": "code",
   "execution_count": 5,
   "id": "50cc150e-b848-424c-9ea5-e8982b6ab00d",
   "metadata": {},
   "outputs": [
    {
     "name": "stdout",
     "output_type": "stream",
     "text": [
      "['A', 'C', 'G', 'T', 'A', 'G', 'C']\n"
     ]
    }
   ],
   "source": [
    "decoded = coder.decompress(compressed, N)\n",
    "\n",
    "print(decoded)"
   ]
  },
  {
   "cell_type": "code",
   "execution_count": 9,
   "id": "1eccf1be-4041-42a3-9132-490f6a01dfcf",
   "metadata": {},
   "outputs": [
    {
     "name": "stdout",
     "output_type": "stream",
     "text": [
      "[0, 0, 0, 1, 1, 0, 1, 1, 0, 0, 1, 1, 0, 0, 0, 0, 1, 0, 0, 1, 0, 1, 0, 0, 0, 1, 1, 0, 0, 1, 0, 1, 0, 0, 0, 0, 1, 1, 1, 1, 1, 1, 1]\n"
     ]
    }
   ],
   "source": [
    "from arithmetic_compressor.models import\\\n",
    "   PPMModel,\\\n",
    "   MultiPPM\n",
    "\n",
    "# create the model\n",
    "model = PPMModel(['A', 'C', 'G', 'T'], k = 3)\n",
    "\n",
    "# create an arithmetic coder\n",
    "coder = AECompressor(model)\n",
    "\n",
    "# encode some data\n",
    "data = \"ACGTAGCACGTATAAAGGCCATA\"\n",
    "N = len(data)\n",
    "compressed = coder.compress(data)\n",
    "\n",
    "# print the compressed data\n",
    "print(compressed) "
   ]
  },
  {
   "cell_type": "code",
   "execution_count": 10,
   "id": "59ea10d9-bd80-4cf4-874b-f644c39e1a27",
   "metadata": {},
   "outputs": [
    {
     "name": "stdout",
     "output_type": "stream",
     "text": [
      "['A', 'C', 'G', 'T', 'A', 'G', 'C', 'A', 'C', 'G', 'T', 'A', 'T', 'A', 'A', 'A', 'G', 'G', 'C', 'C', 'A', 'T', 'A']\n"
     ]
    }
   ],
   "source": [
    "decoded = coder.decompress(compressed, N)\n",
    "\n",
    "print(decoded)"
   ]
  }
 ],
 "metadata": {
  "jupytext": {
   "formats": "ipynb,auto:percent"
  },
  "kernelspec": {
   "display_name": "Python [conda env:diplomka]",
   "language": "python",
   "name": "conda-env-diplomka-py"
  },
  "language_info": {
   "codemirror_mode": {
    "name": "ipython",
    "version": 3
   },
   "file_extension": ".py",
   "mimetype": "text/x-python",
   "name": "python",
   "nbconvert_exporter": "python",
   "pygments_lexer": "ipython3",
   "version": "3.12.3"
  }
 },
 "nbformat": 4,
 "nbformat_minor": 5
}
